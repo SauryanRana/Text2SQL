{
 "cells": [
  {
   "cell_type": "code",
   "execution_count": null,
   "id": "817ef889-eee4-4368-bab9-9aad3f3d3487",
   "metadata": {},
   "outputs": [],
   "source": [
    "import json\n",
    "from datasets import load_dataset\n",
    "from transformers import AutoModelForSeq2SeqLM, T5Tokenizer, PreTrainedTokenizerFast, convert_slow_tokenizer\n",
    "from utils import preprocess_function, tokenize, encode_rare_chars, create_metrics_computer\n",
    "from transformers import Seq2SeqTrainingArguments, Seq2SeqTrainer\n",
    "import torch\n",
    "import wandb"
   ]
  },
  {
   "cell_type": "code",
   "execution_count": null,
   "id": "df9bdf8a-c43c-4c5c-8463-75e54aecf9a6",
   "metadata": {},
   "outputs": [],
   "source": [
    "checkpoint_path = \"../models/4_heads_2e-4_lr_constant_512MappingTokenizer_128_bs_64_dff_32_kv_128d_1\"\n",
    "\n",
    "# Load the model\n",
    "model = AutoModelForSeq2SeqLM.from_pretrained(checkpoint_path)"
   ]
  },
  {
   "cell_type": "code",
   "execution_count": null,
   "id": "7cafa825-dccd-4e32-9b00-7ff152b05d2a",
   "metadata": {},
   "outputs": [],
   "source": [
    "mapping_file_path = 'mapping.json'\n",
    "reverse_mapping_file_path = 'reverse_mapping.json'\n",
    "\n",
    "with open(mapping_file_path, 'r', encoding='utf-8') as mapping_file:\n",
    "    mapping = json.load(mapping_file)\n",
    "\n",
    "with open(reverse_mapping_file_path, 'r', encoding='utf-8') as reverse_mapping_file:\n",
    "    reverse_mapping = json.load(reverse_mapping_file)"
   ]
  },
  {
   "cell_type": "code",
   "execution_count": null,
   "id": "982eaf67-3e4b-493e-8059-8b7d4785286d",
   "metadata": {},
   "outputs": [],
   "source": [
    "tokenizer = PreTrainedTokenizerFast(tokenizer_object=convert_slow_tokenizer.convert_slow_tokenizer(T5Tokenizer(\"tokenizers/sp_512_bpe_encoded.model\", legacy=False, load_from_cache_file=False)))\n",
    "tokenizer.add_special_tokens({'pad_token': '[PAD]'})\n",
    "model.resize_token_embeddings(len(tokenizer))"
   ]
  },
  {
   "cell_type": "code",
   "execution_count": null,
   "id": "92666a8b-1d41-46bd-97da-ebe4778f6794",
   "metadata": {},
   "outputs": [],
   "source": [
    "path = '../datasets/wikisql'\n",
    "dataset = load_dataset(path+'/data')"
   ]
  },
  {
   "cell_type": "code",
   "execution_count": null,
   "id": "6deb9b5f-9645-4c01-8d6b-b0e68595e712",
   "metadata": {},
   "outputs": [],
   "source": [
    "preprocessed_dataset = dataset.map(preprocess_function, batched=True, batch_size=2048)\n",
    "preprocessed_dataset = preprocessed_dataset.map(lambda batch: encode_rare_chars(batch, mapping), batched=True, batch_size=2048)\n",
    "tokenized_dataset = preprocessed_dataset.map(lambda batch: tokenize(batch, tokenizer), batched=True, batch_size=2048)"
   ]
  },
  {
   "cell_type": "code",
   "execution_count": null,
   "id": "6c237edd-f081-4d1f-b8f6-2b624751866c",
   "metadata": {},
   "outputs": [],
   "source": [
    "train_data = tokenized_dataset[\"train\"]\n",
    "val_data = tokenized_dataset[\"validation\"]\n",
    "train_data"
   ]
  },
  {
   "cell_type": "code",
   "execution_count": null,
   "id": "f4bc160b-3f17-4155-97e9-84e9cb3d8d1b",
   "metadata": {},
   "outputs": [],
   "source": [
    "training_args = Seq2SeqTrainingArguments(\n",
    "    output_dir=\"./\" + checkpoint_path + \"/eval\",\n",
    "    save_strategy=\"epoch\",\n",
    "    save_total_limit=1,\n",
    "    load_best_model_at_end=True,\n",
    "    eval_strategy=\"epoch\",\n",
    "    num_train_epochs=50,\n",
    "    per_device_train_batch_size=128,\n",
    "    per_device_eval_batch_size=512,\n",
    "    predict_with_generate=True,\n",
    "    generation_max_length=64,\n",
    "    generation_num_beams=1,\n",
    "    optim=\"lion_32bit\"\n",
    ")\n",
    "\n",
    "compute_metrics = create_metrics_computer(val_data, tokenizer, path+'/tables/validation/dev.db')\n",
    "\n",
    "# Trainer\n",
    "trainer = Seq2SeqTrainer(\n",
    "    model=model,\n",
    "    args=training_args,\n",
    "    train_dataset=train_data,\n",
    "    eval_dataset=val_data,\n",
    "    compute_metrics=compute_metrics\n",
    ")"
   ]
  },
  {
   "cell_type": "code",
   "execution_count": null,
   "id": "d3888a26-41cc-42d6-897a-26f13f175fd9",
   "metadata": {},
   "outputs": [],
   "source": [
    "trainer.evaluate()"
   ]
  },
  {
   "cell_type": "code",
   "execution_count": null,
   "id": "ad4666c9-baba-4cd8-b037-9fd96cc7833e",
   "metadata": {},
   "outputs": [],
   "source": [
    "def canonical_to_human_readable(canonical_form):\n",
    "    \"\"\"\n",
    "    Convert canonical SQL form to a human-readable SQL string.\n",
    "\n",
    "    :param canonical_form: The canonical form containing \"sel\", \"agg\", and \"conds\".\n",
    "    :param agg_mapping: Dictionary mapping aggregation names to IDs.\n",
    "    :param cond_mapping: Dictionary mapping condition operators to IDs.\n",
    "    :return: Human-readable SQL query string.\n",
    "    \"\"\"\n",
    "    agg_mapping = {\n",
    "        \"\": 0,\n",
    "        \"MAX\": 1,\n",
    "        \"MIN\": 2,\n",
    "        \"COUNT\": 3,\n",
    "        \"SUM\": 4,\n",
    "        \"AVG\": 5\n",
    "    }\n",
    "\n",
    "    cond_mapping = {'=': 0, '>': 1, '<': 2}\n",
    "    # Reverse the mappings for easier lookup\n",
    "    rev_agg_mapping = {v: k for k, v in agg_mapping.items()}\n",
    "    rev_cond_mapping = {v: k for k, v in cond_mapping.items()}\n",
    "\n",
    "    # Extract the selected column and aggregation type\n",
    "    selected_column = canonical_form[\"sel\"]\n",
    "    aggregation = rev_agg_mapping.get(canonical_form[\"agg\"], \"\")\n",
    "\n",
    "    # Formulate the SELECT clause\n",
    "    if aggregation:\n",
    "        select_clause = f\"SELECT {aggregation}({selected_column})\"\n",
    "    else:\n",
    "        select_clause = f\"SELECT {selected_column}\"\n",
    "\n",
    "    # Process conditions\n",
    "    conditions = []\n",
    "    for col, op_id, value in canonical_form[\"conds\"]:\n",
    "        operator = rev_cond_mapping.get(op_id, \"=\")\n",
    "        conditions.append(f\"{col} {operator} {value}\")\n",
    "\n",
    "    # Formulate the WHERE clause if conditions exist\n",
    "    where_clause = \"\"\n",
    "    if conditions:\n",
    "        where_clause = \" WHERE \" + \" AND \".join(conditions)\n",
    "\n",
    "    # Combine SELECT and WHERE clauses\n",
    "    human_readable_query = select_clause + where_clause\n",
    "\n",
    "    return human_readable_query"
   ]
  },
  {
   "cell_type": "code",
   "execution_count": null,
   "id": "61fdd35d-cf2f-4f49-80e4-9f08b147b13f",
   "metadata": {},
   "outputs": [],
   "source": [
    "# manually validate model\n",
    "input_ids = val_data[\"input_ids\"]\n",
    "labels = val_data[\"labels\"]\n",
    "tables = val_data[\"table\"]\n",
    "\n",
    "# Run the model to generate predictions\n",
    "model.eval()  # Set the model to evaluation mode\n",
    "with torch.no_grad():  # Disable gradient computation\n",
    "    predictions = model.generate(input_ids=torch.tensor(input_ids).to(torch.device(\"cuda\")), num_beams=5, max_length=128)\n",
    "\n",
    "print(predictions, labels)"
   ]
  },
  {
   "cell_type": "code",
   "execution_count": null,
   "id": "0b16001a-007d-41ba-8a04-f39de6d0fdcc",
   "metadata": {},
   "outputs": [],
   "source": [
    "def post_processing(query, table_header, reverse_mapping):\n",
    "    cleaned_canonical = parse_sql_to_canonical(query, table_header, reverse_mapping)\n",
    "    cleaned_query = canonical_to_human_readable(cleaned_canonical)\n",
    "    return cleaned_query"
   ]
  },
  {
   "cell_type": "code",
   "execution_count": null,
   "id": "0375d0a7-dc93-4d32-bd0d-f25979461336",
   "metadata": {},
   "outputs": [],
   "source": [
    "# Decode predictions and labels\n",
    "input_text = [post_processing(tokenizer.decode(inputs, skip_special_tokens=True), table[\"header\"], reverse_mapping) for inputs, table in zip(input_ids, tables)]\n",
    "predictions_text = [post_processing(tokenizer.decode(pred, skip_special_tokens=True), table[\"header\"], reverse_mapping) for pred, table in zip(predictions, tables)]\n",
    "labels_text = [tokenizer.decode(label, skip_special_tokens=True) for label in labels]\n",
    "print(input_text)\n",
    "print(predictions_text)\n",
    "print(labels_text)"
   ]
  },
  {
   "cell_type": "code",
   "execution_count": null,
   "id": "6f50b2d1-ca55-4907-bdb4-b200143dd7cc",
   "metadata": {},
   "outputs": [],
   "source": [
    "wandb.init(project=\"ablation-studies2\", name=\"wrong predictions\")\n",
    "# Initialize the wandb.Table\n",
    "table = wandb.Table(columns=[\"Input\", \"Prediction\", \"Correct Output\"])\n",
    "\n",
    "# Add rows to the table\n",
    "for inp, pred, correct in zip(input_text, predictions_text, labels_text):\n",
    "    match = pred == correct\n",
    "    if match: continue\n",
    "    print(f\"Adding row: {inp}, {pred}, {correct}\")  # Debugging\n",
    "    table.add_data(inp, pred, correct)\n",
    "\n",
    "# Log the table\n",
    "wandb.log({\"Predictions Table\": table})\n"
   ]
  },
  {
   "cell_type": "code",
   "execution_count": null,
   "outputs": [],
   "source": [],
   "metadata": {
    "collapsed": false
   },
   "id": "610bb346-b2f2-4c68-a897-b8ad7fe1fd87"
  }
 ],
 "metadata": {
  "kernelspec": {
   "display_name": "Python 3 (ipykernel)",
   "language": "python",
   "name": "python3"
  },
  "language_info": {
   "codemirror_mode": {
    "name": "ipython",
    "version": 3
   },
   "file_extension": ".py",
   "mimetype": "text/x-python",
   "name": "python",
   "nbconvert_exporter": "python",
   "pygments_lexer": "ipython3",
   "version": "3.12.8"
  }
 },
 "nbformat": 4,
 "nbformat_minor": 5
}
