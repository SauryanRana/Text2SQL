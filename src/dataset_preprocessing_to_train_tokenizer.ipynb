{
 "cells": [
  {
   "cell_type": "code",
   "execution_count": 1,
   "id": "74b1c5ad",
   "metadata": {},
   "outputs": [],
   "source": [
    "from datasets import load_dataset\n",
    "from utils import preprocess_function\n",
    "from tqdm import tqdm"
   ]
  },
  {
   "cell_type": "code",
   "execution_count": 2,
   "id": "4adbaae7",
   "metadata": {},
   "outputs": [],
   "source": [
    "path = '../datasets/wikisql'\n",
    "dataset = load_dataset(path+'/data')"
   ]
  },
  {
   "cell_type": "code",
   "execution_count": 3,
   "id": "e07131d1",
   "metadata": {},
   "outputs": [
    {
     "data": {
      "application/vnd.jupyter.widget-view+json": {
       "model_id": "2a1a6268b6664495bf00e69986808110",
       "version_major": 2,
       "version_minor": 0
      },
      "text/plain": [
       "Map:   0%|          | 0/56355 [00:00<?, ? examples/s]"
      ]
     },
     "metadata": {},
     "output_type": "display_data"
    },
    {
     "data": {
      "application/vnd.jupyter.widget-view+json": {
       "model_id": "3451bd2f14e04297b7390a3e1cd7b6d5",
       "version_major": 2,
       "version_minor": 0
      },
      "text/plain": [
       "Map:   0%|          | 0/8421 [00:00<?, ? examples/s]"
      ]
     },
     "metadata": {},
     "output_type": "display_data"
    },
    {
     "data": {
      "application/vnd.jupyter.widget-view+json": {
       "model_id": "510d0fff6b6a408183cc81a9f90b0d7c",
       "version_major": 2,
       "version_minor": 0
      },
      "text/plain": [
       "Map:   0%|          | 0/15878 [00:00<?, ? examples/s]"
      ]
     },
     "metadata": {},
     "output_type": "display_data"
    },
    {
     "data": {
      "text/plain": [
       "DatasetDict({\n",
       "    train: Dataset({\n",
       "        features: ['phase', 'question', 'table', 'sql', 'input_text', 'label_text'],\n",
       "        num_rows: 56355\n",
       "    })\n",
       "    validation: Dataset({\n",
       "        features: ['phase', 'question', 'table', 'sql', 'input_text', 'label_text'],\n",
       "        num_rows: 8421\n",
       "    })\n",
       "    test: Dataset({\n",
       "        features: ['phase', 'question', 'table', 'sql', 'input_text', 'label_text'],\n",
       "        num_rows: 15878\n",
       "    })\n",
       "})"
      ]
     },
     "execution_count": 3,
     "metadata": {},
     "output_type": "execute_result"
    }
   ],
   "source": [
    "preprocessed_dataset = dataset.map(preprocess_function, batched=True, batch_size=2048, load_from_cache_file=False)\n",
    "preprocessed_dataset"
   ]
  },
  {
   "cell_type": "code",
   "execution_count": 4,
   "id": "04fcc639",
   "metadata": {},
   "outputs": [
    {
     "data": {
      "text/plain": [
       "Dataset({\n",
       "    features: ['phase', 'question', 'table', 'sql', 'input_text', 'label_text'],\n",
       "    num_rows: 8421\n",
       "})"
      ]
     },
     "execution_count": 4,
     "metadata": {},
     "output_type": "execute_result"
    }
   ],
   "source": [
    "train_data = preprocessed_dataset[\"train\"]\n",
    "val_data = preprocessed_dataset[\"validation\"]\n",
    "test_data = preprocessed_dataset[\"test\"]\n",
    "val_data"
   ]
  },
  {
   "cell_type": "code",
   "execution_count": 5,
   "id": "05c98721",
   "metadata": {},
   "outputs": [
    {
     "name": "stderr",
     "output_type": "stream",
     "text": [
      "100%|██████████████████████████████████████████████████████████████████████████| 56355/56355 [00:13<00:00, 4075.98it/s]\n",
      "100%|████████████████████████████████████████████████████████████████████████████| 8421/8421 [00:01<00:00, 4269.32it/s]\n",
      "100%|██████████████████████████████████████████████████████████████████████████| 15878/15878 [00:04<00:00, 3860.51it/s]\n"
     ]
    },
    {
     "name": "stdout",
     "output_type": "stream",
     "text": [
      "515142\n",
      "Data written to tokenizer_training_data.txt\n"
     ]
    }
   ],
   "source": [
    "# Combine inputs and labels into a single list of text data\n",
    "text_data = []\n",
    "for key in preprocessed_dataset:\n",
    "    for sample in tqdm(preprocessed_dataset[key]):\n",
    "        text_data.append(sample['input_text'])\n",
    "        text_data.append(sample['label_text'])\n",
    "\n",
    "# Save text data to a plain text file\n",
    "output_file = \"tokenizer_training_data.txt\"\n",
    "count = 0\n",
    "with open(output_file, \"w\", encoding=\"utf-8\") as f:\n",
    "    for line in text_data:\n",
    "        f.write(line.strip() + \"\\n\")\n",
    "        count = count + line.count('[SEP]')\n",
    "\n",
    "print(count)\n",
    "print(f\"Data written to {output_file}\")"
   ]
  },
  {
   "cell_type": "code",
   "execution_count": null,
   "id": "eca4f145",
   "metadata": {},
   "outputs": [],
   "source": []
  }
 ],
 "metadata": {
  "kernelspec": {
   "display_name": "Python 3 (ipykernel)",
   "language": "python",
   "name": "python3"
  },
  "language_info": {
   "codemirror_mode": {
    "name": "ipython",
    "version": 3
   },
   "file_extension": ".py",
   "mimetype": "text/x-python",
   "name": "python",
   "nbconvert_exporter": "python",
   "pygments_lexer": "ipython3",
   "version": "3.12.4"
  }
 },
 "nbformat": 4,
 "nbformat_minor": 5
}
