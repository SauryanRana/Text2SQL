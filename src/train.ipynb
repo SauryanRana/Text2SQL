{
 "cells": [
  {
   "cell_type": "code",
   "execution_count": null,
   "id": "initial_id",
   "metadata": {},
   "outputs": [],
   "source": [
    "from datasets import load_dataset\n",
    "from transformers import AutoModelForSeq2SeqLM, AutoConfig, AutoTokenizer, T5Tokenizer, Trainer, TrainingArguments, PreTrainedTokenizerFast, Seq2SeqTrainer, Seq2SeqTrainingArguments, convert_slow_tokenizer\n",
    "from utils import filter_function, preprocess_function, encode_rare_chars, tokenize, create_metrics_computer\n",
    "import torch\n",
    "import wandb\n",
    "import json"
   ]
  },
  {
   "cell_type": "code",
   "execution_count": null,
   "id": "e9590bfb3d3c2d85",
   "metadata": {},
   "outputs": [],
   "source": [
    "config = AutoConfig.from_pretrained(\"google/t5-efficient-tiny\")\n",
    "# print(config)\n",
    "# Modify parameters\n",
    "# config.num_layers = 3  # Set number of encoder layers\n",
    "# config.num_decoder_layers = 3  # Set number of decoder layers\n",
    "config.num_heads = 4  # Set number of attention heads\n",
    "config.d_model = 128  # Set embedding dimension\n",
    "config.d_ff = 64  # Set feed-forward dimension\n",
    "config.d_kv = 32\n",
    "# config.dropout = 0.2\n",
    "\n",
    "print(\"Modified config:\", config)\n",
    "\n",
    "# Initialize the model from scratch using the configuration\n",
    "model = AutoModelForSeq2SeqLM.from_config(config)"
   ]
  },
  {
   "cell_type": "code",
   "execution_count": null,
   "id": "1625b671",
   "metadata": {},
   "outputs": [],
   "source": [
    "# tokenizer = AutoTokenizer.from_pretrained(\"google/t5-efficient-tiny\")\n",
    "tokenizer = PreTrainedTokenizerFast(tokenizer_object=convert_slow_tokenizer.convert_slow_tokenizer(T5Tokenizer(\"tokenizers/sp_512_bpe_encoded.model\", legacy=False, load_from_cache_file=False)))\n",
    "tokenizer.add_special_tokens({'pad_token': '[PAD]'})\n",
    "# tokenizer = T5Tokenizer(vocab_file=\"tokenizers/sp_16k_bpe_1.model\", legacy=False, load_from_cache_file=False)\n",
    "model.resize_token_embeddings(len(tokenizer))"
   ]
  },
  {
   "cell_type": "code",
   "execution_count": null,
   "id": "03a339dc",
   "metadata": {},
   "outputs": [],
   "source": [
    "tokens = tokenizer.encode(\"How often did germany win gold in the 1994 olympics?[SEP]name[SEP]team[SEP]country[SEP]ikhasbd\")\n",
    "print(tokens)\n",
    "print([tokenizer.decode(token) for token in tokens])"
   ]
  },
  {
   "cell_type": "code",
   "execution_count": null,
   "id": "64e5f819",
   "metadata": {},
   "outputs": [],
   "source": [
    "token_embedding = model.shared  # Shared token embedding layer\n",
    "num_token_embedding_params = sum(p.numel() for p in token_embedding.parameters() if p.requires_grad)\n",
    "print(f\"Number of trainable parameters in the token embedding layer: {num_token_embedding_params}\")\n",
    "\n",
    "total_params = sum(p.numel() for p in model.parameters() if p.requires_grad)\n",
    "print(f\"Total number of trainable parameters: {total_params}\")"
   ]
  },
  {
   "cell_type": "code",
   "execution_count": null,
   "id": "5aa00e3f707b22d1",
   "metadata": {},
   "outputs": [],
   "source": [
    "path = '../datasets/wikisql'\n",
    "dataset = load_dataset(path+'/data')"
   ]
  },
  {
   "cell_type": "code",
   "execution_count": null,
   "id": "4ec7430b",
   "metadata": {},
   "outputs": [],
   "source": [
    "preprocessed_dataset = dataset.map(preprocess_function, batched=True, batch_size=2048)"
   ]
  },
  {
   "cell_type": "code",
   "execution_count": null,
   "id": "5f24976f-84d7-4685-be17-c03b2a3bb5b8",
   "metadata": {},
   "outputs": [],
   "source": [
    "mapping_file_path = 'mapping.json'\n",
    "reverse_mapping_file_path = 'reverse_mapping.json'\n",
    "\n",
    "with open(mapping_file_path, 'r', encoding='utf-8') as mapping_file:\n",
    "    mapping = json.load(mapping_file)\n",
    "\n",
    "with open(reverse_mapping_file_path, 'r', encoding='utf-8') as reverse_mapping_file:\n",
    "    reverse_mapping = json.load(reverse_mapping_file)"
   ]
  },
  {
   "cell_type": "code",
   "execution_count": null,
   "id": "38c68056-3522-4e4e-ad61-ad8402896e00",
   "metadata": {},
   "outputs": [],
   "source": [
    "preprocessed_dataset = preprocessed_dataset.map(lambda batch: encode_rare_chars(batch, mapping), batched=True, batch_size=2048)"
   ]
  },
  {
   "cell_type": "code",
   "execution_count": null,
   "id": "2ccf3b77-ef21-4059-bb7f-f10bc7a53da9",
   "metadata": {},
   "outputs": [],
   "source": [
    "tokenized_dataset = preprocessed_dataset.map(lambda batch: tokenize(batch, tokenizer), batched=True, batch_size=2048)"
   ]
  },
  {
   "cell_type": "code",
   "execution_count": null,
   "id": "35235f4e",
   "metadata": {},
   "outputs": [],
   "source": [
    "train_data = tokenized_dataset[\"train\"]\n",
    "val_data = tokenized_dataset[\"validation\"]\n",
    "train_data"
   ]
  },
  {
   "cell_type": "code",
   "execution_count": null,
   "id": "bae99d52",
   "metadata": {},
   "outputs": [],
   "source": [
    "# train_data = train_data.filter(lambda sample: filter_function(sample, tokenizer), batched=False)"
   ]
  },
  {
   "cell_type": "code",
   "execution_count": null,
   "id": "7090be4c",
   "metadata": {},
   "outputs": [],
   "source": [
    "def experiment(project, experiment_name, lr=2e-4, batch_size=128):\n",
    "    seeds = [1337] # [1337, 69, 42]\n",
    "    compute_metrics = create_metrics_computer(val_data, tokenizer, path+'/tables/validation/dev.db', reverse_mapping)\n",
    "    full_metrics = []\n",
    "    for run in range(len(seeds)):\n",
    "        model = AutoModelForSeq2SeqLM.from_config(config)\n",
    "        model.resize_token_embeddings(len(tokenizer))\n",
    "        run_name = experiment_name + \"_\" + str(run+1)\n",
    "        training_args = Seq2SeqTrainingArguments(\n",
    "            output_dir=\"./results/\"+run_name,\n",
    "            run_name=run_name,\n",
    "            report_to=\"wandb\",\n",
    "            save_strategy=\"epoch\",\n",
    "            save_total_limit=1,\n",
    "            load_best_model_at_end=True,\n",
    "            eval_strategy=\"epoch\",\n",
    "            num_train_epochs=50,\n",
    "            per_device_train_batch_size=batch_size,\n",
    "            per_device_eval_batch_size=256,\n",
    "            learning_rate=lr,\n",
    "            # weight_decay=experiment[3],\n",
    "            predict_with_generate=True,\n",
    "            generation_max_length=64,\n",
    "            generation_num_beams=5,\n",
    "            seed=seeds[run],\n",
    "            optim=\"lion_32bit\",\n",
    "            # adam_beta2=0.99,\n",
    "            lr_scheduler_type=\"constant\"\n",
    "            # warmup_steps=(56355//batch_size+1)*4,\n",
    "            # lr_scheduler_kwargs={\"num_cycles\": 3}\n",
    "        )\n",
    "\n",
    "        # Trainer\n",
    "        trainer = Seq2SeqTrainer(\n",
    "            model=model,\n",
    "            args=training_args,\n",
    "            train_dataset=train_data,\n",
    "            eval_dataset=val_data.shuffle(seed=42).select(range(500)), # evaluation is slow, do it on subset\n",
    "            compute_metrics=compute_metrics\n",
    "        )\n",
    "\n",
    "        # Train\n",
    "        wandb.init(project=project, group=experiment_name, name=run_name)\n",
    "        trainer.train()\n",
    "        # Evaluate on the full dataset after training\n",
    "        full_metrics.append(trainer.evaluate(eval_dataset=val_data))\n",
    "        wandb.finish()"
   ]
  },
  {
   "cell_type": "code",
   "execution_count": null,
   "id": "976a5c92",
   "metadata": {},
   "outputs": [],
   "source": [
    "experiment(\"ablation-studies2\", \"4_heads_1.5e-4_lr_constant_512MappingTokenizer_128_bs_64_dff_32kv_128d\", 1.5e-4) # \"cosine_with_restarts_and_warmup\""
   ]
  },
  {
   "cell_type": "code",
   "execution_count": null,
   "id": "c3ba00d3-a363-41e0-9bad-d9157b9feffa",
   "metadata": {},
   "outputs": [],
   "source": [
    "for i in range(3, 0, -1):\n",
    "    factor = 2**i\n",
    "    lr = 1e-4 * factor**0.5\n",
    "    batch_size = round(32 * factor)\n",
    "    print(lr, batch_size)\n",
    "    experiment(\"ablation-studies2\", f\"2_heads_{lr:.3e}_lr_constant_512MappingTokenizer_{batch_size}_bs_redo2\", lr, batch_size)"
   ]
  },
  {
   "cell_type": "code",
   "execution_count": null,
   "id": "6f27b314-b184-4838-8d86-f547cf673479",
   "metadata": {},
   "outputs": [],
   "source": [
    "compute_metrics = create_metrics_computer(val_data, tokenizer, path+'/tables/validation/dev.db', reverse_mapping)\n",
    "samples = 56355\n",
    "for i in range(3, 0, -1):\n",
    "    factor = 2**i\n",
    "    lr = 1e-4 * factor**0.5\n",
    "    batch_size = round(32 * factor)\n",
    "    batches_per_epoch = int(samples/batch_size)+1\n",
    "    total_batches = batches_per_epoch*25\n",
    "    run_name = f\"2_heads_{lr:.3e}_lr_constant_512MappingTokenizer_{batch_size}_bs_1\"\n",
    "    checkpoint = f\"./results/{run_name}/checkpoint-{total_batches}\"\n",
    "    model = AutoModelForSeq2SeqLM.from_config(config)\n",
    "    model.resize_token_embeddings(len(tokenizer))\n",
    "\n",
    "    training_args = Seq2SeqTrainingArguments(\n",
    "            output_dir=\"./results/\"+run_name,\n",
    "            run_name=run_name,\n",
    "            report_to=\"wandb\",\n",
    "            save_strategy=\"epoch\",\n",
    "            save_total_limit=1,\n",
    "            load_best_model_at_end=True,\n",
    "            eval_strategy=\"epoch\",\n",
    "            num_train_epochs=50,\n",
    "            per_device_train_batch_size=batch_size,\n",
    "            per_device_eval_batch_size=256,\n",
    "            learning_rate=lr,\n",
    "            # weight_decay=experiment[3],\n",
    "            predict_with_generate=True,\n",
    "            generation_max_length=64,\n",
    "            generation_num_beams=5,\n",
    "            seed=1337,\n",
    "            optim=\"lion_32bit\",\n",
    "            # adam_beta2=0.99,\n",
    "            lr_scheduler_type=\"constant\"\n",
    "            # warmup_steps=(56355//batch_size+1)*4,\n",
    "            # lr_scheduler_kwargs={\"num_cycles\": 3}\n",
    "        )\n",
    "    \n",
    "    trainer = Trainer(\n",
    "        model=model,                     # Your model instance\n",
    "        args=training_args,              # Training arguments\n",
    "        train_dataset=train_data,        # Your training dataset\n",
    "        eval_dataset=val_data.shuffle(seed=42).select(range(500)), # evaluation is slow, do it on subset\n",
    "        compute_metrics=compute_metrics\n",
    "    )\n",
    "    \n",
    "    # Resume training from the checkpoint\n",
    "    trainer.train(resume_from_checkpoint=checkpoint)\n",
    "    trainer.evaluate(eval_dataset=val_data)\n",
    "    wandb.finish()"
   ]
  },
  {
   "cell_type": "code",
   "execution_count": null,
   "id": "e0d98a0f70712780",
   "metadata": {},
   "outputs": [],
   "source": [
    "# manually validate model\n",
    "input_ids = tokenized_val_data[\"input_ids\"]\n",
    "labels = tokenized_val_data[\"labels\"]\n",
    "\n",
    "# Run the model to generate predictions\n",
    "model.eval()  # Set the model to evaluation mode\n",
    "with torch.no_grad():  # Disable gradient computation\n",
    "    predictions = model.generate(input_ids=torch.tensor(input_ids).to(torch.device(\"cuda\")))\n",
    "\n",
    "print(predictions, labels)"
   ]
  },
  {
   "cell_type": "code",
   "execution_count": null,
   "id": "50fb0660",
   "metadata": {},
   "outputs": [],
   "source": [
    "# Decode predictions and labels\n",
    "input_text = [tokenizer.decode(inputs, skip_special_tokens=True) for inputs in input_ids]\n",
    "predictions_text = [tokenizer.decode(pred, skip_special_tokens=True) for pred in predictions]\n",
    "labels_text = [tokenizer.decode(label, skip_special_tokens=True) for label in labels]\n",
    "print(input_text)\n",
    "print(predictions_text)\n",
    "print(labels_text)"
   ]
  },
  {
   "cell_type": "code",
   "execution_count": null,
   "id": "de27e446",
   "metadata": {},
   "outputs": [],
   "source": [
    "wandb.init(project=\"ablation-studies2\", name=\"wrong predictions\")\n",
    "# Initialize the wandb.Table\n",
    "table = wandb.Table(columns=[\"Input\", \"Prediction\", \"Correct Output\"])\n",
    "\n",
    "# Add rows to the table\n",
    "for inp, pred, correct in zip(input_text, predictions_text, labels_text):\n",
    "    match = pred == correct\n",
    "    if match: continue\n",
    "    print(f\"Adding row: {idx}, {pred}, {correct}\")  # Debugging\n",
    "    table.add_data(inp, pred, correct)\n",
    "\n",
    "# Log the table\n",
    "wandb.log({\"Predictions Table\": table})\n"
   ]
  },
  {
   "cell_type": "code",
   "execution_count": null,
   "id": "5ceccbf6",
   "metadata": {},
   "outputs": [],
   "source": [
    "checkpoint_dir = 'results/lion_32bit_bs16_3/checkpoint-3523'\n",
    "\n",
    "# Load the model\n",
    "model = AutoModelForSeq2SeqLM.from_pretrained(checkpoint_dir)"
   ]
  },
  {
   "cell_type": "code",
   "execution_count": null,
   "id": "b20dfac9",
   "metadata": {},
   "outputs": [],
   "source": [
    "training_args = Seq2SeqTrainingArguments(\n",
    "    output_dir=\"./\" + checkpoint_dir + \"/eval\",\n",
    "    save_strategy=\"epoch\",\n",
    "    save_total_limit=1,\n",
    "    load_best_model_at_end=True,\n",
    "    eval_strategy=\"epoch\",\n",
    "    num_train_epochs=25,\n",
    "    per_device_train_batch_size=32,\n",
    "    per_device_eval_batch_size=512,\n",
    "    predict_with_generate=True,\n",
    "    generation_max_length=48,\n",
    "    generation_num_beams=5,\n",
    "    optim=\"lion_32bit\"\n",
    ")\n",
    "\n",
    "compute_metrics = create_metrics_computer(tokenized_val_data, tokenizer, path+'/tables/validation/dev.db')\n",
    "\n",
    "# Trainer\n",
    "trainer = Seq2SeqTrainer(\n",
    "    model=model,\n",
    "    args=training_args,\n",
    "    train_dataset=tokenized_train_data,\n",
    "    eval_dataset=tokenized_val_data,\n",
    "    compute_metrics=compute_metrics\n",
    ")"
   ]
  },
  {
   "cell_type": "code",
   "execution_count": null,
   "id": "6ec99333",
   "metadata": {},
   "outputs": [],
   "source": [
    "trainer.evaluate()"
   ]
  },
  {
   "cell_type": "code",
   "execution_count": null,
   "id": "75400111-012a-46e7-b04e-6a489c345363",
   "metadata": {},
   "outputs": [],
   "source": []
  }
 ],
 "metadata": {
  "kernelspec": {
   "display_name": "Python 3 (ipykernel)",
   "language": "python",
   "name": "python3"
  },
  "language_info": {
   "codemirror_mode": {
    "name": "ipython",
    "version": 3
   },
   "file_extension": ".py",
   "mimetype": "text/x-python",
   "name": "python",
   "nbconvert_exporter": "python",
   "pygments_lexer": "ipython3",
   "version": "3.12.8"
  }
 },
 "nbformat": 4,
 "nbformat_minor": 5
}
