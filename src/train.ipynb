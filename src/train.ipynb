{
 "cells": [
  {
   "cell_type": "code",
   "execution_count": null,
   "id": "initial_id",
   "metadata": {
    "ExecuteTime": {
     "end_time": "2024-11-27T09:32:55.690514900Z",
     "start_time": "2024-11-27T09:32:50.319130500Z"
    }
   },
   "outputs": [],
   "source": [
    "from datasets import load_dataset\n",
    "from transformers import AutoModelForSeq2SeqLM, AutoConfig, AutoTokenizer, Trainer, TrainingArguments\n",
    "from utils import filter_function, preprocess_function, create_metrics_computer\n",
    "from transformers import Seq2SeqTrainer, Seq2SeqTrainingArguments\n",
    "import torch\n",
    "import wandb"
   ]
  },
  {
   "cell_type": "code",
   "execution_count": null,
   "id": "e9590bfb3d3c2d85",
   "metadata": {
    "ExecuteTime": {
     "end_time": "2024-11-27T09:32:56.317876200Z",
     "start_time": "2024-11-27T09:32:55.692515100Z"
    }
   },
   "outputs": [],
   "source": [
    "# Load the configuration for the model\n",
    "config = AutoConfig.from_pretrained(\"google/t5-efficient-tiny\")\n",
    "\n",
    "# Initialize the model from scratch using the configuration\n",
    "model = AutoModelForSeq2SeqLM.from_config(config)\n",
    "# Calculate the total number of parameters\n",
    "total_params = sum(p.numel() for p in model.parameters())\n",
    "# Print the total number of parameters\n",
    "print(f\"Total number of parameters: {total_params}\")\n",
    "\n",
    "tokenizer = AutoTokenizer.from_pretrained(\"google/t5-efficient-tiny\")"
   ]
  },
  {
   "cell_type": "code",
   "execution_count": null,
   "id": "5aa00e3f707b22d1",
   "metadata": {
    "ExecuteTime": {
     "end_time": "2024-11-27T09:37:21.476273300Z",
     "start_time": "2024-11-27T09:36:35.118770100Z"
    }
   },
   "outputs": [],
   "source": [
    "path = '../datasets/wikisql'\n",
    "dataset = load_dataset(path+'/data')\n",
    "train_data = dataset[\"train\"]\n",
    "val_data = dataset[\"validation\"].select(range(1024))"
   ]
  },
  {
   "cell_type": "code",
   "execution_count": null,
   "id": "bae99d52",
   "metadata": {},
   "outputs": [],
   "source": [
    "train_data = train_data.filter(lambda sample: filter_function(sample, tokenizer), batched=False)"
   ]
  },
  {
   "cell_type": "code",
   "execution_count": null,
   "id": "e4629704",
   "metadata": {},
   "outputs": [],
   "source": [
    "tokenized_train_data = train_data.map(lambda batch: preprocess_function(batch, tokenizer), batched=True, batch_size=2048)\n",
    "tokenized_val_data = val_data.map(lambda batch: preprocess_function(batch, tokenizer), batched=True, batch_size=2048)\n",
    "tokenized_val_data"
   ]
  },
  {
   "cell_type": "code",
   "execution_count": null,
   "id": "1d7cc4201c051eeb",
   "metadata": {
    "ExecuteTime": {
     "end_time": "2024-11-27T09:42:07.587194700Z",
     "start_time": "2024-11-27T09:37:51.023168500Z"
    }
   },
   "outputs": [],
   "source": [
    "# Training arguments\n",
    "name = \"t5-tiny-bs32-lr0.0001-lossFixed\"\n",
    "training_args = Seq2SeqTrainingArguments(\n",
    "    output_dir=\"./results/\"+name,\n",
    "    report_to=\"wandb\",\n",
    "    save_strategy=\"epoch\",\n",
    "    save_total_limit=1,\n",
    "    load_best_model_at_end=True,\n",
    "    eval_strategy=\"epoch\",\n",
    "    num_train_epochs=25,\n",
    "    per_device_train_batch_size=32,\n",
    "    per_device_eval_batch_size=64,\n",
    "    learning_rate=1e-4,\n",
    "    weight_decay=0.01,\n",
    "    predict_with_generate=True,\n",
    "    generation_max_length=48,\n",
    "    generation_num_beams=5,\n",
    "    seed=1337\n",
    ")\n",
    "\n",
    "compute_metrics = create_metrics_computer(tokenized_val_data, tokenizer, path+'/tables/validation/dev.db')\n",
    "# Trainer\n",
    "trainer = Seq2SeqTrainer(\n",
    "    model=model,\n",
    "    args=training_args,\n",
    "    train_dataset=tokenized_train_data,\n",
    "    eval_dataset=tokenized_val_data,\n",
    "    compute_metrics=compute_metrics\n",
    ")"
   ]
  },
  {
   "cell_type": "code",
   "execution_count": null,
   "id": "f899f1f7",
   "metadata": {},
   "outputs": [],
   "source": [
    "# Train\n",
    "wandb.init(project=\"test-learning-rate\", name = name)\n",
    "trainer.train()"
   ]
  },
  {
   "cell_type": "code",
   "execution_count": null,
   "id": "53df1206",
   "metadata": {},
   "outputs": [],
   "source": [
    "training_args.num_train_epochs = 30\n",
    "trainer.train(resume_from_checkpoint=True)"
   ]
  },
  {
   "cell_type": "code",
   "execution_count": null,
   "id": "e0d98a0f70712780",
   "metadata": {},
   "outputs": [],
   "source": [
    "# Prepare input for the model\n",
    "input_ids = tokenized_val_data[\"input_ids\"]\n",
    "labels = tokenized_val_data[\"labels\"]\n",
    "\n",
    "# Run the model to generate predictions\n",
    "model.eval()  # Set the model to evaluation mode\n",
    "with torch.no_grad():  # Disable gradient computation\n",
    "    predictions = model.generate(input_ids=torch.tensor(input_ids).to(torch.device(\"cuda\")))\n",
    "\n",
    "print(predictions, labels)"
   ]
  },
  {
   "cell_type": "code",
   "execution_count": null,
   "id": "50fb0660",
   "metadata": {},
   "outputs": [],
   "source": [
    "# Decode predictions and labels\n",
    "predictions_text = [tokenizer.decode(pred, skip_special_tokens=True) for pred in predictions]\n",
    "labels_text = [tokenizer.decode(label, skip_special_tokens=True) for label in labels]\n",
    "print(predictions_text)\n",
    "print(labels_text)"
   ]
  },
  {
   "cell_type": "code",
   "execution_count": null,
   "id": "5ceccbf6",
   "metadata": {},
   "outputs": [],
   "source": [
    "checkpoint_dir = 'results/checkpoint-13230'\n",
    "\n",
    "# Load the model\n",
    "model = AutoModelForSeq2SeqLM.from_pretrained(checkpoint_dir)"
   ]
  },
  {
   "cell_type": "code",
   "execution_count": null,
   "id": "6ec99333",
   "metadata": {},
   "outputs": [],
   "source": [
    "trainer.evaluate()"
   ]
  }
 ],
 "metadata": {
  "kernelspec": {
   "display_name": "Python 3 (ipykernel)",
   "language": "python",
   "name": "python3"
  },
  "language_info": {
   "codemirror_mode": {
    "name": "ipython",
    "version": 3
   },
   "file_extension": ".py",
   "mimetype": "text/x-python",
   "name": "python",
   "nbconvert_exporter": "python",
   "pygments_lexer": "ipython3",
   "version": "3.12.4"
  }
 },
 "nbformat": 4,
 "nbformat_minor": 5
}
